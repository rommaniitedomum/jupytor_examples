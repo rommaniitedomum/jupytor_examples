{
 "cells": [
  {
   "cell_type": "markdown",
   "metadata": {},
   "source": [
    "# 심부전 데이터셋\n",
    "- 심혈관 질환은 전 세계적으로 사망 원인 1위다.\n",
    "- 매년 약 1,790만명이 심혈관 질환으로 사망하는데, 이는 전 세계 사망자의 31%에 해당된다.\n",
    "- 사망 5명 중 4명은 심장마비와 뇌졸증으로 인해 발색하고 3분의 1은 70세 미만의 나이로 조기 사망한다.\n",
    "\n",
    "\n",
    "\n",
    "\n",
    "# 데이터셋 변수\n",
    "- Age: 환자의 나이\n",
    "- Sex: 환자의 성별\n",
    "- ChestPainType: 흉통 유형\n",
    " - TA[Typical Angina]: 전형적인 혐심증(가슴 통증)\n",
    " - ATA[Atypical Angina]: 비전형적인 혐심증(TA의 통증과는 다른 통증이며, 불쾌감, 어깨 통증, 호흡곤란 등 다양한 형태의 통증)\n",
    " - NAP[Non-Anginal Pain]: 비협심증 흉통(심장과 관련된 원인이 아닌 다른 요인에 의해 발생하는 가슴통증)\n",
    " - ASY[Asymptomatic]: 무증상\n",
    "- RestingBP: [resting blood pressure]: 안정된 상태에서 측정된 혈압\n",
    "- Cholesterol: [serum cholesterol]: 혈액 내의 콜레스테롤 농도\n",
    "- FastingBS: [fasting blood sugar]: 공복 상태에서 측정된 혈당\n",
    " - 1: 만약 공복 혈당이 120mg/dl 보다 높음\n",
    " - 0: 그 외 수치\n",
    "- RestingECG: [resting electrocardiogram result]: 안정된 상태에서 측정된 심전도\n",
    " - Normal: 정상적인 상태\n",
    " - ST:ST-T에 이상을 가지고 있는 상태(심전도 검사에서 관찰되는 ST 세그먼트와 T파에 이상이 생기면 심장 혈류에 영향으로 심장 문제 발현)\n",
    " - LVH: 심장의 좌심실이 비정상적으로 커진 상태\n",
    "- MaxHR: [maximum heart rate achieved]: 최대 심박수(60 ~ 220 사이)\n",
    "- ExerciseAngina: 운동 시 협심증을 경험 했는지 여부\n",
    " - Y: 예\n",
    " - N: 아니요\n",
    "- HeartDisease: 심장병 여부\n",
    " - 1: 심장병\n",
    " - 0: 정상"
   ]
  },
  {
   "cell_type": "code",
   "execution_count": 1,
   "metadata": {},
   "outputs": [
    {
     "data": {
      "text/plain": [
       "Index(['Age', 'Sex', 'ChestPainType', 'RestingBP', 'Cholesterol', 'FastingBS',\n",
       "       'RestingECG', 'MaxHR', 'ExerciseAngina', 'HeartDisease'],\n",
       "      dtype='object')"
      ]
     },
     "execution_count": 1,
     "metadata": {},
     "output_type": "execute_result"
    }
   ],
   "source": [
    "import pandas as pd\n",
    "import numpy as np\n",
    "import seaborn as sns\n",
    "import matplotlib.pyplot as plt\n",
    "\n",
    "heart = pd.read_csv('heart.csv')\n",
    "heart.columns"
   ]
  },
  {
   "cell_type": "code",
   "execution_count": 2,
   "metadata": {},
   "outputs": [
    {
     "data": {
      "text/html": [
       "<div>\n",
       "<style scoped>\n",
       "    .dataframe tbody tr th:only-of-type {\n",
       "        vertical-align: middle;\n",
       "    }\n",
       "\n",
       "    .dataframe tbody tr th {\n",
       "        vertical-align: top;\n",
       "    }\n",
       "\n",
       "    .dataframe thead th {\n",
       "        text-align: right;\n",
       "    }\n",
       "</style>\n",
       "<table border=\"1\" class=\"dataframe\">\n",
       "  <thead>\n",
       "    <tr style=\"text-align: right;\">\n",
       "      <th></th>\n",
       "      <th>Age</th>\n",
       "      <th>Sex</th>\n",
       "      <th>ChestPainType</th>\n",
       "      <th>RestingBP</th>\n",
       "      <th>Cholesterol</th>\n",
       "      <th>FastingBS</th>\n",
       "      <th>RestingECG</th>\n",
       "      <th>MaxHR</th>\n",
       "      <th>ExerciseAngina</th>\n",
       "      <th>HeartDisease</th>\n",
       "    </tr>\n",
       "  </thead>\n",
       "  <tbody>\n",
       "    <tr>\n",
       "      <th>0</th>\n",
       "      <td>40</td>\n",
       "      <td>M</td>\n",
       "      <td>ATA</td>\n",
       "      <td>140.0</td>\n",
       "      <td>289</td>\n",
       "      <td>NaN</td>\n",
       "      <td>Normal</td>\n",
       "      <td>172</td>\n",
       "      <td>N</td>\n",
       "      <td>0.0</td>\n",
       "    </tr>\n",
       "    <tr>\n",
       "      <th>1</th>\n",
       "      <td>49</td>\n",
       "      <td>F</td>\n",
       "      <td>NAP</td>\n",
       "      <td>160.0</td>\n",
       "      <td>180</td>\n",
       "      <td>NaN</td>\n",
       "      <td>Normal</td>\n",
       "      <td>156</td>\n",
       "      <td>N</td>\n",
       "      <td>NaN</td>\n",
       "    </tr>\n",
       "    <tr>\n",
       "      <th>2</th>\n",
       "      <td>37</td>\n",
       "      <td>M</td>\n",
       "      <td>ATA</td>\n",
       "      <td>NaN</td>\n",
       "      <td>283</td>\n",
       "      <td>NaN</td>\n",
       "      <td>ST</td>\n",
       "      <td>98</td>\n",
       "      <td>N</td>\n",
       "      <td>NaN</td>\n",
       "    </tr>\n",
       "  </tbody>\n",
       "</table>\n",
       "</div>"
      ],
      "text/plain": [
       "   Age Sex ChestPainType  RestingBP  Cholesterol  FastingBS RestingECG  MaxHR  \\\n",
       "0   40   M           ATA      140.0          289        NaN     Normal    172   \n",
       "1   49   F           NAP      160.0          180        NaN     Normal    156   \n",
       "2   37   M           ATA        NaN          283        NaN         ST     98   \n",
       "\n",
       "  ExerciseAngina  HeartDisease  \n",
       "0              N           0.0  \n",
       "1              N           NaN  \n",
       "2              N           NaN  "
      ]
     },
     "execution_count": 2,
     "metadata": {},
     "output_type": "execute_result"
    }
   ],
   "source": [
    "heart.head(3)"
   ]
  },
  {
   "cell_type": "code",
   "execution_count": 3,
   "metadata": {},
   "outputs": [
    {
     "name": "stdout",
     "output_type": "stream",
     "text": [
      "<class 'pandas.core.frame.DataFrame'>\n",
      "RangeIndex: 918 entries, 0 to 917\n",
      "Data columns (total 10 columns):\n",
      " #   Column          Non-Null Count  Dtype  \n",
      "---  ------          --------------  -----  \n",
      " 0   Age             918 non-null    int64  \n",
      " 1   Sex             918 non-null    object \n",
      " 2   ChestPainType   918 non-null    object \n",
      " 3   RestingBP       891 non-null    float64\n",
      " 4   Cholesterol     918 non-null    int64  \n",
      " 5   FastingBS       827 non-null    float64\n",
      " 6   RestingECG      918 non-null    object \n",
      " 7   MaxHR           918 non-null    int64  \n",
      " 8   ExerciseAngina  918 non-null    object \n",
      " 9   HeartDisease    916 non-null    float64\n",
      "dtypes: float64(3), int64(3), object(4)\n",
      "memory usage: 71.8+ KB\n"
     ]
    }
   ],
   "source": [
    "heart.info()"
   ]
  },
  {
   "cell_type": "code",
   "execution_count": 4,
   "metadata": {},
   "outputs": [
    {
     "data": {
      "text/plain": [
       "0    0.0\n",
       "1    NaN\n",
       "2    NaN\n",
       "3    1.0\n",
       "4    0.0\n",
       "Name: HeartDisease, dtype: float64"
      ]
     },
     "execution_count": 4,
     "metadata": {},
     "output_type": "execute_result"
    }
   ],
   "source": [
    "heart['HeartDisease'].head()"
   ]
  },
  {
   "cell_type": "code",
   "execution_count": 6,
   "metadata": {},
   "outputs": [
    {
     "data": {
      "text/html": [
       "<div>\n",
       "<style scoped>\n",
       "    .dataframe tbody tr th:only-of-type {\n",
       "        vertical-align: middle;\n",
       "    }\n",
       "\n",
       "    .dataframe tbody tr th {\n",
       "        vertical-align: top;\n",
       "    }\n",
       "\n",
       "    .dataframe thead th {\n",
       "        text-align: right;\n",
       "    }\n",
       "</style>\n",
       "<table border=\"1\" class=\"dataframe\">\n",
       "  <thead>\n",
       "    <tr style=\"text-align: right;\">\n",
       "      <th></th>\n",
       "      <th>Age</th>\n",
       "      <th>Sex</th>\n",
       "      <th>ChestPainType</th>\n",
       "      <th>RestingBP</th>\n",
       "      <th>Cholesterol</th>\n",
       "      <th>FastingBS</th>\n",
       "      <th>RestingECG</th>\n",
       "      <th>MaxHR</th>\n",
       "      <th>ExerciseAngina</th>\n",
       "      <th>HeartDisease</th>\n",
       "    </tr>\n",
       "  </thead>\n",
       "  <tbody>\n",
       "    <tr>\n",
       "      <th>3</th>\n",
       "      <td>48</td>\n",
       "      <td>F</td>\n",
       "      <td>ASY</td>\n",
       "      <td>NaN</td>\n",
       "      <td>214</td>\n",
       "      <td>NaN</td>\n",
       "      <td>Normal</td>\n",
       "      <td>108</td>\n",
       "      <td>Y</td>\n",
       "      <td>1.0</td>\n",
       "    </tr>\n",
       "    <tr>\n",
       "      <th>8</th>\n",
       "      <td>37</td>\n",
       "      <td>M</td>\n",
       "      <td>ASY</td>\n",
       "      <td>NaN</td>\n",
       "      <td>207</td>\n",
       "      <td>NaN</td>\n",
       "      <td>Normal</td>\n",
       "      <td>130</td>\n",
       "      <td>Y</td>\n",
       "      <td>1.0</td>\n",
       "    </tr>\n",
       "    <tr>\n",
       "      <th>11</th>\n",
       "      <td>58</td>\n",
       "      <td>M</td>\n",
       "      <td>ATA</td>\n",
       "      <td>136.0</td>\n",
       "      <td>164</td>\n",
       "      <td>NaN</td>\n",
       "      <td>ST</td>\n",
       "      <td>99</td>\n",
       "      <td>Y</td>\n",
       "      <td>1.0</td>\n",
       "    </tr>\n",
       "    <tr>\n",
       "      <th>13</th>\n",
       "      <td>49</td>\n",
       "      <td>M</td>\n",
       "      <td>ASY</td>\n",
       "      <td>140.0</td>\n",
       "      <td>234</td>\n",
       "      <td>NaN</td>\n",
       "      <td>Normal</td>\n",
       "      <td>140</td>\n",
       "      <td>Y</td>\n",
       "      <td>1.0</td>\n",
       "    </tr>\n",
       "    <tr>\n",
       "      <th>16</th>\n",
       "      <td>38</td>\n",
       "      <td>M</td>\n",
       "      <td>ASY</td>\n",
       "      <td>110.0</td>\n",
       "      <td>196</td>\n",
       "      <td>NaN</td>\n",
       "      <td>Normal</td>\n",
       "      <td>166</td>\n",
       "      <td>N</td>\n",
       "      <td>1.0</td>\n",
       "    </tr>\n",
       "  </tbody>\n",
       "</table>\n",
       "</div>"
      ],
      "text/plain": [
       "    Age Sex ChestPainType  RestingBP  Cholesterol  FastingBS RestingECG  \\\n",
       "3    48   F           ASY        NaN          214        NaN     Normal   \n",
       "8    37   M           ASY        NaN          207        NaN     Normal   \n",
       "11   58   M           ATA      136.0          164        NaN         ST   \n",
       "13   49   M           ASY      140.0          234        NaN     Normal   \n",
       "16   38   M           ASY      110.0          196        NaN     Normal   \n",
       "\n",
       "    MaxHR ExerciseAngina  HeartDisease  \n",
       "3     108              Y           1.0  \n",
       "8     130              Y           1.0  \n",
       "11     99              Y           1.0  \n",
       "13    140              Y           1.0  \n",
       "16    166              N           1.0  "
      ]
     },
     "execution_count": 6,
     "metadata": {},
     "output_type": "execute_result"
    }
   ],
   "source": [
    "## 심장병 여무 파악. 있으면 True 없으면 False \n",
    "# # True, False 로 구성된 필터링 데이터를 심부전 데이터셋에 적용하여 심장병이 있는 사람만 추출 \n",
    "\n",
    "H = heart[heart['HeartDisease'] == 1]\n",
    "H.head()"
   ]
  },
  {
   "cell_type": "code",
   "execution_count": 5,
   "metadata": {},
   "outputs": [
    {
     "name": "stdout",
     "output_type": "stream",
     "text": [
      "RestingBP 결측치 비율: 2.94%\n",
      "FastingBS 결측치 비율: 9.91%\n",
      "HeartDisease 결측치 비율: 0.22%\n"
     ]
    }
   ],
   "source": [
    "# 결측치 계산 \n",
    "for i in heart.columns:\n",
    "    missingValueRate = heart[i].isna().sum() / len(heart) * 100\n",
    "    if missingValueRate > 0:\n",
    "        print(f'{i} 결측치 비율: {round(missingValueRate,2)}%')\n",
    "        \n",
    "        # 5퍼 미만 = 이부분만 결측치 존재 하므로 행을 적절한 값으로 대체하는게 적절 \n",
    "        # 5~ 20 미만 결측치가 꽤 많으므로 대체 하는 방법이 적절"
   ]
  },
  {
   "cell_type": "code",
   "execution_count": 7,
   "metadata": {},
   "outputs": [],
   "source": [
    "# FastingBS 컬럼 결측치를 0 으로 대체 \n",
    "\n",
    "heart['FastingBS'] = heart['FastingBS'].fillna(0)"
   ]
  },
  {
   "cell_type": "code",
   "execution_count": 8,
   "metadata": {},
   "outputs": [],
   "source": [
    "#RestingBP 결측치를 중앙값으로 대체 \n",
    "\n",
    "heart['RestingBP'] = heart['RestingBP'].replace(np.nan, heart['RestingBP'].median())"
   ]
  },
  {
   "cell_type": "code",
   "execution_count": 9,
   "metadata": {},
   "outputs": [],
   "source": [
    "# 나머지 결측치가 있는건 제거 \n",
    "heart.dropna(axis=0, inplace=True) # 제거된 데이터 원본 프레임 수정 "
   ]
  },
  {
   "cell_type": "code",
   "execution_count": 10,
   "metadata": {},
   "outputs": [
    {
     "name": "stdout",
     "output_type": "stream",
     "text": [
      "<class 'pandas.core.frame.DataFrame'>\n",
      "Index: 916 entries, 0 to 917\n",
      "Data columns (total 10 columns):\n",
      " #   Column          Non-Null Count  Dtype  \n",
      "---  ------          --------------  -----  \n",
      " 0   Age             916 non-null    int64  \n",
      " 1   Sex             916 non-null    object \n",
      " 2   ChestPainType   916 non-null    object \n",
      " 3   RestingBP       916 non-null    float64\n",
      " 4   Cholesterol     916 non-null    int64  \n",
      " 5   FastingBS       916 non-null    float64\n",
      " 6   RestingECG      916 non-null    object \n",
      " 7   MaxHR           916 non-null    int64  \n",
      " 8   ExerciseAngina  916 non-null    object \n",
      " 9   HeartDisease    916 non-null    float64\n",
      "dtypes: float64(3), int64(3), object(4)\n",
      "memory usage: 78.7+ KB\n"
     ]
    }
   ],
   "source": [
    "heart.info()"
   ]
  },
  {
   "cell_type": "code",
   "execution_count": 11,
   "metadata": {},
   "outputs": [
    {
     "data": {
      "text/plain": [
       "Age               0\n",
       "Sex               0\n",
       "ChestPainType     0\n",
       "RestingBP         0\n",
       "Cholesterol       0\n",
       "FastingBS         0\n",
       "RestingECG        0\n",
       "MaxHR             0\n",
       "ExerciseAngina    0\n",
       "HeartDisease      0\n",
       "dtype: int64"
      ]
     },
     "execution_count": 11,
     "metadata": {},
     "output_type": "execute_result"
    }
   ],
   "source": [
    "heart.isna().sum()"
   ]
  },
  {
   "cell_type": "code",
   "execution_count": 12,
   "metadata": {},
   "outputs": [
    {
     "name": "stdout",
     "output_type": "stream",
     "text": [
      "136.83078602620088\n",
      "138.0\n"
     ]
    }
   ],
   "source": [
    "# 최ㅐ대 심박수에 대한 평균값과 중앙값 추출 \n",
    "print(heart['MaxHR'].mean())\n",
    "print(heart['MaxHR'].median())"
   ]
  },
  {
   "cell_type": "code",
   "execution_count": 13,
   "metadata": {},
   "outputs": [
    {
     "data": {
      "text/plain": [
       "ChestPainType\n",
       "ASY    496\n",
       "NAP    202\n",
       "ATA    172\n",
       "TA      46\n",
       "Name: count, dtype: int64"
      ]
     },
     "execution_count": 13,
     "metadata": {},
     "output_type": "execute_result"
    }
   ],
   "source": [
    "# ChestPainType의 빈도수 확인 \n",
    "heart['ChestPainType'].value_counts()"
   ]
  },
  {
   "cell_type": "code",
   "execution_count": 14,
   "metadata": {},
   "outputs": [
    {
     "data": {
      "text/html": [
       "<div>\n",
       "<style scoped>\n",
       "    .dataframe tbody tr th:only-of-type {\n",
       "        vertical-align: middle;\n",
       "    }\n",
       "\n",
       "    .dataframe tbody tr th {\n",
       "        vertical-align: top;\n",
       "    }\n",
       "\n",
       "    .dataframe thead th {\n",
       "        text-align: right;\n",
       "    }\n",
       "</style>\n",
       "<table border=\"1\" class=\"dataframe\">\n",
       "  <thead>\n",
       "    <tr style=\"text-align: right;\">\n",
       "      <th></th>\n",
       "      <th>Age</th>\n",
       "      <th>MaxHR</th>\n",
       "      <th>Cholesterol</th>\n",
       "    </tr>\n",
       "  </thead>\n",
       "  <tbody>\n",
       "    <tr>\n",
       "      <th>count</th>\n",
       "      <td>916.000000</td>\n",
       "      <td>916.000000</td>\n",
       "      <td>916.000000</td>\n",
       "    </tr>\n",
       "    <tr>\n",
       "      <th>mean</th>\n",
       "      <td>53.533843</td>\n",
       "      <td>136.830786</td>\n",
       "      <td>198.728166</td>\n",
       "    </tr>\n",
       "    <tr>\n",
       "      <th>std</th>\n",
       "      <td>9.425923</td>\n",
       "      <td>25.447917</td>\n",
       "      <td>109.466452</td>\n",
       "    </tr>\n",
       "    <tr>\n",
       "      <th>min</th>\n",
       "      <td>28.000000</td>\n",
       "      <td>60.000000</td>\n",
       "      <td>0.000000</td>\n",
       "    </tr>\n",
       "    <tr>\n",
       "      <th>25%</th>\n",
       "      <td>47.000000</td>\n",
       "      <td>120.000000</td>\n",
       "      <td>173.000000</td>\n",
       "    </tr>\n",
       "    <tr>\n",
       "      <th>50%</th>\n",
       "      <td>54.000000</td>\n",
       "      <td>138.000000</td>\n",
       "      <td>223.000000</td>\n",
       "    </tr>\n",
       "    <tr>\n",
       "      <th>75%</th>\n",
       "      <td>60.000000</td>\n",
       "      <td>156.000000</td>\n",
       "      <td>267.000000</td>\n",
       "    </tr>\n",
       "    <tr>\n",
       "      <th>max</th>\n",
       "      <td>77.000000</td>\n",
       "      <td>202.000000</td>\n",
       "      <td>603.000000</td>\n",
       "    </tr>\n",
       "  </tbody>\n",
       "</table>\n",
       "</div>"
      ],
      "text/plain": [
       "              Age       MaxHR  Cholesterol\n",
       "count  916.000000  916.000000   916.000000\n",
       "mean    53.533843  136.830786   198.728166\n",
       "std      9.425923   25.447917   109.466452\n",
       "min     28.000000   60.000000     0.000000\n",
       "25%     47.000000  120.000000   173.000000\n",
       "50%     54.000000  138.000000   223.000000\n",
       "75%     60.000000  156.000000   267.000000\n",
       "max     77.000000  202.000000   603.000000"
      ]
     },
     "execution_count": 14,
     "metadata": {},
     "output_type": "execute_result"
    }
   ],
   "source": [
    "# Age, MaxHR, Cholesterol 의 주요 통계량 요약 출력 \n",
    "heart[['Age', 'MaxHR', 'Cholesterol']].describe()"
   ]
  },
  {
   "cell_type": "code",
   "execution_count": 16,
   "metadata": {},
   "outputs": [
    {
     "data": {
      "text/html": [
       "<div>\n",
       "<style scoped>\n",
       "    .dataframe tbody tr th:only-of-type {\n",
       "        vertical-align: middle;\n",
       "    }\n",
       "\n",
       "    .dataframe tbody tr th {\n",
       "        vertical-align: top;\n",
       "    }\n",
       "\n",
       "    .dataframe thead th {\n",
       "        text-align: right;\n",
       "    }\n",
       "</style>\n",
       "<table border=\"1\" class=\"dataframe\">\n",
       "  <thead>\n",
       "    <tr style=\"text-align: right;\">\n",
       "      <th></th>\n",
       "      <th></th>\n",
       "      <th>Age</th>\n",
       "      <th>MaxHR</th>\n",
       "      <th>Cholesterol</th>\n",
       "    </tr>\n",
       "    <tr>\n",
       "      <th>HeartDisease</th>\n",
       "      <th>ChestPainType</th>\n",
       "      <th></th>\n",
       "      <th></th>\n",
       "      <th></th>\n",
       "    </tr>\n",
       "  </thead>\n",
       "  <tbody>\n",
       "    <tr>\n",
       "      <th rowspan=\"4\" valign=\"top\">0.0</th>\n",
       "      <th>ASY</th>\n",
       "      <td>52.317308</td>\n",
       "      <td>138.548077</td>\n",
       "      <td>226.865385</td>\n",
       "    </tr>\n",
       "    <tr>\n",
       "      <th>ATA</th>\n",
       "      <td>48.236486</td>\n",
       "      <td>152.621622</td>\n",
       "      <td>232.668919</td>\n",
       "    </tr>\n",
       "    <tr>\n",
       "      <th>NAP</th>\n",
       "      <td>51.045802</td>\n",
       "      <td>150.641221</td>\n",
       "      <td>221.503817</td>\n",
       "    </tr>\n",
       "    <tr>\n",
       "      <th>TA</th>\n",
       "      <td>54.692308</td>\n",
       "      <td>150.500000</td>\n",
       "      <td>222.730769</td>\n",
       "    </tr>\n",
       "    <tr>\n",
       "      <th rowspan=\"4\" valign=\"top\">1.0</th>\n",
       "      <th>ASY</th>\n",
       "      <td>55.660714</td>\n",
       "      <td>125.806122</td>\n",
       "      <td>175.974490</td>\n",
       "    </tr>\n",
       "    <tr>\n",
       "      <th>ATA</th>\n",
       "      <td>55.958333</td>\n",
       "      <td>137.500000</td>\n",
       "      <td>233.291667</td>\n",
       "    </tr>\n",
       "    <tr>\n",
       "      <th>NAP</th>\n",
       "      <td>57.549296</td>\n",
       "      <td>129.394366</td>\n",
       "      <td>153.281690</td>\n",
       "    </tr>\n",
       "    <tr>\n",
       "      <th>TA</th>\n",
       "      <td>55.000000</td>\n",
       "      <td>144.500000</td>\n",
       "      <td>186.700000</td>\n",
       "    </tr>\n",
       "  </tbody>\n",
       "</table>\n",
       "</div>"
      ],
      "text/plain": [
       "                                  Age       MaxHR  Cholesterol\n",
       "HeartDisease ChestPainType                                    \n",
       "0.0          ASY            52.317308  138.548077   226.865385\n",
       "             ATA            48.236486  152.621622   232.668919\n",
       "             NAP            51.045802  150.641221   221.503817\n",
       "             TA             54.692308  150.500000   222.730769\n",
       "1.0          ASY            55.660714  125.806122   175.974490\n",
       "             ATA            55.958333  137.500000   233.291667\n",
       "             NAP            57.549296  129.394366   153.281690\n",
       "             TA             55.000000  144.500000   186.700000"
      ]
     },
     "execution_count": 16,
     "metadata": {},
     "output_type": "execute_result"
    }
   ],
   "source": [
    "# HeartDisease 와 ChestPainType 그룹화 한 다음 Age, MaxHR, Cholesterol 의 평균을 산출 \n",
    "# 심장병 유무와 흉동 유형에 따른 나이, 최대 심박수, 콜레스테롤 수치를 명확히 표현\n",
    "\n",
    "heart.groupby(['HeartDisease', 'ChestPainType'])[['Age', 'MaxHR', 'Cholesterol']].mean()\n",
    "\n",
    "# 심장별이 없는 정상적인 사람의 나이, 최대 심박수, 콜레스테롤 수치가 각각 어떠한 흉통 유형에 따라 달라지는지 표현\n",
    "# 예를 들어 심장병이 없는 사람의 전형적인 협심증(TA) 유형과 심장병이 있는 사람의 비 전형적인 협심증(ATA) 유형은 다음과 같음\n",
    "# -------\n",
    "#                        심장병이 없는 사람의 TA 유형    심장병이 있는 사람의 ATA 유형\n",
    "# 평균나이               54.69세                         55.95세\n",
    "# 평균 최대 심박수       150.50                          137.50\n",
    "# 평균 콜레스테롤 수치   222.73                          233.29\n"
   ]
  },
  {
   "cell_type": "code",
   "execution_count": 17,
   "metadata": {},
   "outputs": [
    {
     "data": {
      "text/plain": [
       "Sex\n",
       "F    132.119792\n",
       "M    132.421271\n",
       "Name: RestingBP, dtype: float64"
      ]
     },
     "execution_count": 17,
     "metadata": {},
     "output_type": "execute_result"
    }
   ],
   "source": [
    "# 성별로 그룹화한 다음 RestingBp 의 평균 \n",
    "heart.groupby('Sex')['RestingBP'].mean()"
   ]
  },
  {
   "cell_type": "code",
   "execution_count": 23,
   "metadata": {},
   "outputs": [
    {
     "data": {
      "text/plain": [
       "Text(0.5, 1.0, 'We see that the ratio is occupied in the following order: ASY, NAP ,ATA , TA ')"
      ]
     },
     "execution_count": 23,
     "metadata": {},
     "output_type": "execute_result"
    },
    {
     "data": {
      "image/png": "[encoded data removed]",
      "text/plain": [
       "<Figure size 640x480 with 1 Axes>"
      ]
     },
     "metadata": {},
     "output_type": "display_data"
    }
   ],
   "source": [
    "# 심부전 파이차트 \n",
    "ratio = heart['ChestPainType'].value_counts()\n",
    "ratio\n",
    "\n",
    "# 파이 타츠 시각화 \n",
    "plt.pie(x=ratio, labels=ratio.index, autopct='%0.1f%%', startangle=100, explode=[0.05, 0.05, 0.05, 0.05,], shadow=True, colors=['#003399', '#0099ff', '#00ffff', '#ccffff'])\n",
    "\n",
    "plt.suptitle('Chest Pain Type Distribution', fontfamily='serif', fontsize=15, fontweight='bold')\n",
    "plt.title('We see that the ratio is occupied in the following order: ASY, NAP ,ATA , TA ', fontfamily='serif', fontsize=12)\n",
    "# 무증상(ASY)가 가장 많은 비율을 차기하고 다음으로 NAP(비협심증 흉통), ATA(비전형적인 협심증), TA(전형적인 협심증) 순으로 분포\n",
    "# NAP와 ATA의 비율이 높은 것은 다양한 흉통 유형이 심장병의 가능성을 나타낼 수 있음\n",
    "# TA의 낮은 비율은 심장병 환자들 사이에서 전형적인 협심증 보다는 다른 현태의 흉통이 더 흔할 수 있음을 시사\n"
   ]
  },
  {
   "cell_type": "code",
   "execution_count": 24,
   "metadata": {},
   "outputs": [
    {
     "data": {
      "image/png": "[encoded data removed]",
      "text/plain": [
       "<Figure size 1200x500 with 1 Axes>"
      ]
     },
     "metadata": {},
     "output_type": "display_data"
    }
   ],
   "source": [
    "# 심부전증이 있을 때와 없을 떄 ASY(무증상)가 압드적으로 확인 \n",
    "# 심장병 여부에 따른 흉통 유형 빈도 그래프 \n",
    "\n",
    "plt.figure(figsize=(12,5))\n",
    "sns.countplot(data=heart, x='HeartDisease', hue='ChestPainType', hue_order=['ASY', 'NAP' ,'ATA' , 'TA'], palette=['#003399', '#0099ff', '#00ffff', '#ccffff'])\n",
    "\n",
    "plt.suptitle('Chest Pain Type Distribution', fontfamily='serif', fontsize=15, fontweight='bold')\n",
    "plt.title('We see that the ratio is occupied in the following order: ASY, NAP ,ATA , TA ', fontfamily='serif', fontsize=12, pad=15)\n",
    "plt.xticks([0,1], ['For individuals without heart disease', 'for individual with heart disease'])\n",
    "plt.tight_layout()\n",
    "plt.show()\n",
    "\n",
    "# 심장병 환자와 비환자 간에 흉통 유형의 분포가 다르게 나타난다. 특히 심장병 환자의 ASY(무증상) 비율이 높다\n",
    "# 이는 심장병 환자들이 주로 무증상 흉통을 겪는다는 것을 의미한다.\n",
    "# 심장병 환자와는 다르게 비환자의 경우 흉통 유형의 발생 순서가 ATA(비전형적인 협심증)와 NAP(비협심증 흉통), ASY(무증상), TA(전형적인 협심증) 순서로 나타난다.\n",
    "# 이는 비전형적인 혐심증과 비협심증 흉통의 빈번한 발생은 비환자들에게도 심장 건강에 대해 주의해야 함을 의미한다."
   ]
  },
  {
   "cell_type": "code",
   "execution_count": null,
   "metadata": {},
   "outputs": [],
   "source": []
  }
 ],
 "metadata": {
  "kernelspec": {
   "display_name": "Python 3 (ipykernel)",
   "language": "python",
   "name": "python3"
  },
  "language_info": {
   "codemirror_mode": {
    "name": "ipython",
    "version": 3
   },
   "file_extension": ".py",
   "mimetype": "text/x-python",
   "name": "python",
   "nbconvert_exporter": "python",
   "pygments_lexer": "ipython3",
   "version": "3.12.7"
  }
 },
 "nbformat": 4,
 "nbformat_minor": 2
}
