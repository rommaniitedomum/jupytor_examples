{
 "cells": [
  {
   "cell_type": "markdown",
   "metadata": {},
   "source": [
    "# 심부전 데이터셋\n",
    "- 심혈관 질환은 전 세계적으로 사망 원인 1위다.\n",
    "- 매년 약 1,790만명이 심혈관 질환으로 사망하는데, 이는 전 세계 사망자의 31%에 해당된다.\n",
    "- 사망 5명 중 4명은 심장마비와 뇌졸증으로 인해 발색하고 3분의 1은 70세 미만의 나이로 조기 사망한다.\n",
    "\n",
    "\n",
    "\n",
    "\n",
    "# 데이터셋 변수\n",
    "- Age: 환자의 나이\n",
    "- Sex: 환자의 성별\n",
    "- ChestPainType: 흉통 유형\n",
    " - TA[Typical Angina]: 전형적인 혐심증(가슴 통증)\n",
    " - ATA[Atypical Angina]: 비전형적인 혐심증(TA의 통증과는 다른 통증이며, 불쾌감, 어깨 통증, 호흡곤란 등 다양한 형태의 통증)\n",
    " - NAP[Non-Anginal Pain]: 비협심증 흉통(심장과 관련된 원인이 아닌 다른 요인에 의해 발생하는 가슴통증)\n",
    " - ASY[Asymptomatic]: 무증상\n",
    "- RestingBP: [resting blood pressure]: 안정된 상태에서 측정된 혈압\n",
    "- Cholesterol: [serum cholesterol]: 혈액 내의 콜레스테롤 농도\n",
    "- FastingBS: [fasting blood sugar]: 공복 상태에서 측정된 혈당\n",
    " - 1: 만약 공복 혈당이 120mg/dl 보다 높음\n",
    " - 0: 그 외 수치\n",
    "- RestingECG: [resting electrocardiogram result]: 안정된 상태에서 측정된 심전도\n",
    " - Normal: 정상적인 상태\n",
    " - ST:ST-T에 이상을 가지고 있는 상태(심전도 검사에서 관찰되는 ST 세그먼트와 T파에 이상이 생기면 심장 혈류에 영향으로 심장 문제 발현)\n",
    " - LVH: 심장의 좌심실이 비정상적으로 커진 상태\n",
    "- MaxHR: [maximum heart rate achieved]: 최대 심박수(60 ~ 220 사이)\n",
    "- ExerciseAngina: 운동 시 협심증을 경험 했는지 여부\n",
    " - Y: 예\n",
    " - N: 아니요\n",
    "- HeartDisease: 심장병 여부\n",
    " - 1: 심장병\n",
    " - 0: 정상"
   ]
  },
  {
   "cell_type": "code",
   "execution_count": 3,
   "metadata": {},
   "outputs": [
    {
     "data": {
      "text/plain": [
       "Index(['Age', 'Sex', 'ChestPainType', 'RestingBP', 'Cholesterol', 'FastingBS',\n",
       "       'RestingECG', 'MaxHR', 'ExerciseAngina', 'HeartDisease'],\n",
       "      dtype='object')"
      ]
     },
     "execution_count": 3,
     "metadata": {},
     "output_type": "execute_result"
    }
   ],
   "source": [
    "import pandas as pd\n",
    "import numpy as np\n",
    "import seaborn as sns\n",
    "import matplotlib.pyplot as plt\n",
    "\n",
    "heart = pd.read_csv('heart.csv')\n",
    "heart.columns"
   ]
  },
  {
   "cell_type": "code",
   "execution_count": 4,
   "metadata": {},
   "outputs": [
    {
     "data": {
      "text/html": [
       "<div>\n",
       "<style scoped>\n",
       "    .dataframe tbody tr th:only-of-type {\n",
       "        vertical-align: middle;\n",
       "    }\n",
       "\n",
       "    .dataframe tbody tr th {\n",
       "        vertical-align: top;\n",
       "    }\n",
       "\n",
       "    .dataframe thead th {\n",
       "        text-align: right;\n",
       "    }\n",
       "</style>\n",
       "<table border=\"1\" class=\"dataframe\">\n",
       "  <thead>\n",
       "    <tr style=\"text-align: right;\">\n",
       "      <th></th>\n",
       "      <th>Age</th>\n",
       "      <th>Sex</th>\n",
       "      <th>ChestPainType</th>\n",
       "      <th>RestingBP</th>\n",
       "      <th>Cholesterol</th>\n",
       "      <th>FastingBS</th>\n",
       "      <th>RestingECG</th>\n",
       "      <th>MaxHR</th>\n",
       "      <th>ExerciseAngina</th>\n",
       "      <th>HeartDisease</th>\n",
       "    </tr>\n",
       "  </thead>\n",
       "  <tbody>\n",
       "    <tr>\n",
       "      <th>0</th>\n",
       "      <td>40</td>\n",
       "      <td>M</td>\n",
       "      <td>ATA</td>\n",
       "      <td>140.0</td>\n",
       "      <td>289</td>\n",
       "      <td>NaN</td>\n",
       "      <td>Normal</td>\n",
       "      <td>172</td>\n",
       "      <td>N</td>\n",
       "      <td>0.0</td>\n",
       "    </tr>\n",
       "    <tr>\n",
       "      <th>1</th>\n",
       "      <td>49</td>\n",
       "      <td>F</td>\n",
       "      <td>NAP</td>\n",
       "      <td>160.0</td>\n",
       "      <td>180</td>\n",
       "      <td>NaN</td>\n",
       "      <td>Normal</td>\n",
       "      <td>156</td>\n",
       "      <td>N</td>\n",
       "      <td>NaN</td>\n",
       "    </tr>\n",
       "    <tr>\n",
       "      <th>2</th>\n",
       "      <td>37</td>\n",
       "      <td>M</td>\n",
       "      <td>ATA</td>\n",
       "      <td>NaN</td>\n",
       "      <td>283</td>\n",
       "      <td>NaN</td>\n",
       "      <td>ST</td>\n",
       "      <td>98</td>\n",
       "      <td>N</td>\n",
       "      <td>NaN</td>\n",
       "    </tr>\n",
       "  </tbody>\n",
       "</table>\n",
       "</div>"
      ],
      "text/plain": [
       "   Age Sex ChestPainType  RestingBP  Cholesterol  FastingBS RestingECG  MaxHR  \\\n",
       "0   40   M           ATA      140.0          289        NaN     Normal    172   \n",
       "1   49   F           NAP      160.0          180        NaN     Normal    156   \n",
       "2   37   M           ATA        NaN          283        NaN         ST     98   \n",
       "\n",
       "  ExerciseAngina  HeartDisease  \n",
       "0              N           0.0  \n",
       "1              N           NaN  \n",
       "2              N           NaN  "
      ]
     },
     "execution_count": 4,
     "metadata": {},
     "output_type": "execute_result"
    }
   ],
   "source": [
    "heart.head(3)"
   ]
  },
  {
   "cell_type": "code",
   "execution_count": null,
   "metadata": {},
   "outputs": [],
   "source": []
  }
 ],
 "metadata": {
  "kernelspec": {
   "display_name": "Python 3 (ipykernel)",
   "language": "python",
   "name": "python3"
  },
  "language_info": {
   "codemirror_mode": {
    "name": "ipython",
    "version": 3
   },
   "file_extension": ".py",
   "mimetype": "text/x-python",
   "name": "python",
   "nbconvert_exporter": "python",
   "pygments_lexer": "ipython3",
   "version": "3.12.7"
  }
 },
 "nbformat": 4,
 "nbformat_minor": 2
}
