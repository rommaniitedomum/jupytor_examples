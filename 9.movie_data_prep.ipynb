{
 "cells": [
  {
   "cell_type": "code",
   "execution_count": 98,
   "metadata": {},
   "outputs": [],
   "source": [
    "import pandas as pd\n",
    "import numpy as np\n",
    "import seaborn as sns\n",
    "import matplotlib.pyplot as plt\n",
    "import requests\n",
    "from tqdm import tqdm # 터미널에서 진행상황을 알려주는 라이브러리 \n",
    "import time \n",
    "\n"
   ]
  },
  {
   "cell_type": "code",
   "execution_count": 99,
   "metadata": {},
   "outputs": [],
   "source": [
    "# imdb 영화 상세화면 url 추가 함수: 예) https://www.imdb.com/title/tt0114709/\n",
    "\n",
    "def add_url(row):\n",
    "    return f'https://www.imdb.com/title/tt{row}/'\n",
    "\n",
    "# add rating 함수 작성 \n",
    "def add_rating(df):\n",
    "    ratings_df = pd.read_csv('movie_data/ratings.csv')\n",
    "    ratings_df['movieId']= ratings_df['movieId'].astype(str)\n",
    "    \n",
    "# imdb 영화 상세화면 url 추가 함수: 예) https://www.imdb.com/title/tt0114709/\n",
    "# groupby 참조: https://velog.io/@euisuk-chung/%ED%8C%8C%EC%9D%B4%EC%8D%AC-%EB%A7%88%EC%8A%A4%ED%84%B0%ED%95%98%EA%B8%B0-GROUP-BY\n",
    "# agg 참조: https://ysyblog.tistory.com/301\n",
    "    agg_df = ratings_df.groupby('movieId').agg(\n",
    "        rating_count=('rating', 'count'),\n",
    "        rating_avg=('rating', 'mean')\n",
    "    ).reset_index()\n",
    "\n",
    "    agg_df['rating_avg'] = agg_df['rating_avg'].round(2)\n",
    "\n",
    "    rating_added_df = df.merge(agg_df, on='movieId' , how='left')\n",
    "    return rating_added_df\n",
    "\n",
    "def add_poster(df):\n",
    "    for i, row in tqdm(df.iterrows(), total=df.shape[0]):\n",
    "        tmdb_id=row['tmdbId']\n",
    "        tmdb_url=f\"https://api.themoviedb.org/3/movie/{tmdb_id}?api_key=c67745c88102e9fe38714f12534e29cd&language=en-US\"\n",
    "        result=requests.get(tmdb_url)\n",
    "        \n",
    "        try:\n",
    "            df.at[i, 'poster_path'] = \"https://image.tmdb.org/t/p/original\" + result.json()['poster_path']\n",
    "            time.sleep(0.1) # 각각 데이터가 0.1초마다 생성 \n",
    "        except (TypeError, KeyError) as e:\n",
    "            df.at[i, \"poster_path\"] = \"https://image.tmdb.org/t/p/original/uXDfjJbdP4ijW5hWSBrPrlKpxab.jpg\"\n",
    "    return df\n",
    "\n",
    "\n",
    "if __name__ == '__main__': # 파이선 파일이 실행되쓸떄 호출 \n",
    "    movies_df = pd.read_csv('movie_data/movies.csv')\n",
    "    links_df = pd.read_csv('movie_data/links.csv', dtype=str)\n",
    "        \n",
    "    # print (movies_df)\n",
    "    # astype() 안에 dictionary 형태로 컬럼 명과 바꿀 데이터 테입을 입력 \n",
    "    movies_df['movieId'] = movies_df['movieId'].astype(str)\n",
    "\n",
    "    # 2개의 데이터 셋을 조인으로 합치기 on 은 어떤 컬럼 merge 할지 joinkey 설정 how 는 왼쪽으로 movie_df 기준 머지 실행 \n",
    "\n",
    "    merged_df = movies_df.merge(links_df, on='movieId', how='left')\n",
    "\n",
    "\n",
    "    # url 추가 적용 \n",
    "\n",
    "    merged_df['url'] = merged_df['imdbId'].apply(lambda x: add_url(x))\n",
    "\n",
    "    # result_df = add_rating(merged_df)\n",
    "    # result_df['poster_path'] = None\n",
    "    # result_df = add_poster(result_df)\n",
    "    \n",
    "    # result_df.to_csv('movie_data/movie_final.csv', index=None)\n",
    "    "
   ]
  },
  {
   "cell_type": "code",
   "execution_count": 100,
   "metadata": {},
   "outputs": [
    {
     "name": "stdout",
     "output_type": "stream",
     "text": [
      "(9742, 6)\n"
     ]
    }
   ],
   "source": [
    "# print(merged_df.iloc[0,:])\n",
    "print(merged_df.shape)"
   ]
  },
  {
   "cell_type": "code",
   "execution_count": 101,
   "metadata": {},
   "outputs": [
    {
     "name": "stdout",
     "output_type": "stream",
     "text": [
      "        userId movieId  rating   timestamp\n",
      "0            1       1     4.0   964982703\n",
      "1            1       3     4.0   964981247\n",
      "2            1       6     4.0   964982224\n",
      "3            1      47     5.0   964983815\n",
      "4            1      50     5.0   964982931\n",
      "...        ...     ...     ...         ...\n",
      "100831     610  166534     4.0  1493848402\n",
      "100832     610  168248     5.0  1493850091\n",
      "100833     610  168250     5.0  1494273047\n",
      "100834     610  168252     5.0  1493846352\n",
      "100835     610  170875     3.0  1493846415\n",
      "\n",
      "[100836 rows x 4 columns]\n"
     ]
    }
   ],
   "source": [
    "ratings_df = pd.read_csv('movie_data/ratings.csv')\n",
    "ratings_df['movieId']= ratings_df['movieId'].astype(str)\n",
    "\n",
    "agg_df = ratings_df.groupby('movieId').agg(\n",
    "    rating_count=('rating', 'count'),\n",
    "    rating_avg=('rating', 'mean')\n",
    ").reset_index()\n",
    "\n",
    "print(ratings_df)"
   ]
  },
  {
   "cell_type": "markdown",
   "metadata": {},
   "source": []
  },
  {
   "cell_type": "code",
   "execution_count": 102,
   "metadata": {},
   "outputs": [],
   "source": [
    "# TMDB API: c67745c88102e9fe38714f12534e29cd\n",
    "# https://api.themoviedb.org/3/movie/{tmdb_id}?api_key=c67745c88102e9fe38714f12534e29cd&language=en-US\n"
   ]
  },
  {
   "cell_type": "code",
   "execution_count": 103,
   "metadata": {},
   "outputs": [],
   "source": [
    "final_df = pd.read_csv('movie_data/movie_final.csv')\n"
   ]
  },
  {
   "cell_type": "code",
   "execution_count": 104,
   "metadata": {},
   "outputs": [
    {
     "data": {
      "text/plain": [
       "[{'movieId': 32139,\n",
       "  'title': 'Agony and the Ecstasy, The (1965)',\n",
       "  'genres': 'Drama',\n",
       "  'imdbId': 58886,\n",
       "  'tmdbId': 36815.0,\n",
       "  'url': 'https://www.imdb.com/title/tt0058886',\n",
       "  'rating_count': 2.0,\n",
       "  'rating_avg': 4.0,\n",
       "  'poster_path': 'https://image.tmdb.org/t/p/original/4ZiwyXtyxYDmMnNiVemCPgxY8X6.jpg'},\n",
       " {'movieId': 7745,\n",
       "  'title': \"Scent of Green Papaya, The (Mùi du du xhan - L'odeur de la papaye verte) (1993)\",\n",
       "  'genres': 'Drama',\n",
       "  'imdbId': 107617,\n",
       "  'tmdbId': 19552.0,\n",
       "  'url': 'https://www.imdb.com/title/tt0107617',\n",
       "  'rating_count': 2.0,\n",
       "  'rating_avg': 4.0,\n",
       "  'poster_path': 'https://image.tmdb.org/t/p/original/wh1JFM7myCSJvtaPX30sWYX2q66.jpg'},\n",
       " {'movieId': 2751,\n",
       "  'title': 'From the Hip (1987)',\n",
       "  'genres': 'Comedy|Drama',\n",
       "  'imdbId': 93051,\n",
       "  'tmdbId': 24081.0,\n",
       "  'url': 'https://www.imdb.com/title/tt0093051',\n",
       "  'rating_count': 2.0,\n",
       "  'rating_avg': 4.0,\n",
       "  'poster_path': 'https://image.tmdb.org/t/p/original/jkwzakMmaasylJc2Uj9LvL8bSOk.jpg'}]"
      ]
     },
     "execution_count": 104,
     "metadata": {},
     "output_type": "execute_result"
    }
   ],
   "source": [
    "item_frame = 'movie_data/movie_final.csv'\n",
    "\n",
    "def random_items(n):\n",
    "    movies_df = pd.read_csv(item_frame)\n",
    "    movies_df = movies_df.fillna('') #결측치 공백처리 \n",
    "    result_items = movies_df.sample(n=n).to_dict('records')\n",
    "    return result_items\n",
    "\n",
    "random_items(3)"
   ]
  },
  {
   "cell_type": "code",
   "execution_count": 105,
   "metadata": {},
   "outputs": [
    {
     "data": {
      "text/plain": [
       "[{'movieId': 183295,\n",
       "  'title': 'Insidious: The Last Key (2018)',\n",
       "  'genres': 'Horror|Mystery|Thriller',\n",
       "  'imdbId': 5726086,\n",
       "  'tmdbId': 406563.0,\n",
       "  'url': 'https://www.imdb.com/title/tt5726086',\n",
       "  'rating_count': 2.0,\n",
       "  'rating_avg': 3.5,\n",
       "  'poster_path': 'https://image.tmdb.org/t/p/original/nb9fc9INMg8kQ8L7sE7XTNsZnUX.jpg',\n",
       "  'year': 2018.0},\n",
       " {'movieId': 184987,\n",
       "  'title': 'A Wrinkle in Time (2018)',\n",
       "  'genres': 'Adventure|Children|Fantasy|Sci-Fi',\n",
       "  'imdbId': 1620680,\n",
       "  'tmdbId': 407451.0,\n",
       "  'url': 'https://www.imdb.com/title/tt1620680',\n",
       "  'rating_count': 2.0,\n",
       "  'rating_avg': 3.0,\n",
       "  'poster_path': 'https://image.tmdb.org/t/p/original/yAcb58vipewa1BfNit2RjE6boXA.jpg',\n",
       "  'year': 2018.0},\n",
       " {'movieId': 187717,\n",
       "  'title': \"Won't You Be My Neighbor? (2018)\",\n",
       "  'genres': 'Documentary',\n",
       "  'imdbId': 7681902,\n",
       "  'tmdbId': 490003.0,\n",
       "  'url': 'https://www.imdb.com/title/tt7681902',\n",
       "  'rating_count': 2.0,\n",
       "  'rating_avg': 5.0,\n",
       "  'poster_path': 'https://image.tmdb.org/t/p/original/8qE8NZjiP2M884baH0VoLF828Vp.jpg',\n",
       "  'year': 2018.0},\n",
       " {'movieId': 187595,\n",
       "  'title': 'Solo: A Star Wars Story (2018)',\n",
       "  'genres': 'Action|Adventure|Children|Sci-Fi',\n",
       "  'imdbId': 3778644,\n",
       "  'tmdbId': 348350.0,\n",
       "  'url': 'https://www.imdb.com/title/tt3778644',\n",
       "  'rating_count': 9.0,\n",
       "  'rating_avg': 3.89,\n",
       "  'poster_path': 'https://image.tmdb.org/t/p/original/ml6qIRjOia6mfeVck0DqBT9FdXF.jpg',\n",
       "  'year': 2018.0},\n",
       " {'movieId': 187593,\n",
       "  'title': 'Deadpool 2 (2018)',\n",
       "  'genres': 'Action|Comedy|Sci-Fi',\n",
       "  'imdbId': 5463162,\n",
       "  'tmdbId': 383498.0,\n",
       "  'url': 'https://www.imdb.com/title/tt5463162',\n",
       "  'rating_count': 18.0,\n",
       "  'rating_avg': 3.72,\n",
       "  'poster_path': 'https://image.tmdb.org/t/p/original/to0spRl1CMDvyUbOnbb4fTk3VAd.jpg',\n",
       "  'year': 2018.0}]"
      ]
     },
     "execution_count": 105,
     "metadata": {},
     "output_type": "execute_result"
    }
   ],
   "source": [
    "import re # 정규 표현식 libraries\n",
    "\n",
    "def latest_items(n):\n",
    "    movies_df = pd.read_csv(item_frame)\n",
    "    movies_df = movies_df.fillna('') #결측치 공백 처리 \n",
    "    \n",
    "    # 영화 제목에서 연도를 추출하는 함수 (예: \"squid game(2021)\" -> 2021)\n",
    "    def extract_year(title):\n",
    "        match = re.search(r'\\((\\d{4})\\)', title)\n",
    "        if match:\n",
    "            return int(match.group(1))  # return match.group(1) # 정규 표현식에서 만든 객체중 첫 값만 출력 \n",
    "        return None # 연도가 없으면 none 반환 \n",
    "    \n",
    "    # 연도 정보를 추출해서 새로운 'year' 컬럼에 추가 \n",
    "    movies_df['year'] = movies_df['title'].apply(extract_year)\n",
    "    \n",
    "    # 연도를 기준으로 내림차순으로 정렬하고 최신 n개 항목 선택 \n",
    "    latest_movie_df = movies_df.sort_values(by='year', ascending=False).head(n) # year 칼럼 기준으로 내림차순 (ascending=False)\n",
    "    \n",
    "    # 5개의 latest movie return\n",
    "    result_items = latest_movie_df.to_dict('records')\n",
    "    return result_items\n",
    "    \n",
    "    # return extract_year('squidgame (2021)')\n",
    "    \n",
    "# print(latest_items())\n",
    "latest_items(5)"
   ]
  },
  {
   "cell_type": "code",
   "execution_count": 106,
   "metadata": {},
   "outputs": [
    {
     "data": {
      "text/plain": [
       "[{'movieId': 2710,\n",
       "  'title': 'Blair Witch Project, The (1999)',\n",
       "  'genres': 'Drama|Horror|Thriller',\n",
       "  'imdbId': 185937,\n",
       "  'tmdbId': 2667.0,\n",
       "  'url': 'https://www.imdb.com/title/tt0185937',\n",
       "  'rating_count': 98.0,\n",
       "  'rating_avg': 2.76,\n",
       "  'poster_path': 'https://image.tmdb.org/t/p/original/9050VGrYjYrEjpOvDZVAngLbg1f.jpg'},\n",
       " {'movieId': 55067,\n",
       "  'title': 'Requiem (2006)',\n",
       "  'genres': 'Drama|Thriller',\n",
       "  'imdbId': 454931,\n",
       "  'tmdbId': 523.0,\n",
       "  'url': 'https://www.imdb.com/title/tt0454931',\n",
       "  'rating_count': 2.0,\n",
       "  'rating_avg': 3.5,\n",
       "  'poster_path': 'https://image.tmdb.org/t/p/original/aJ34ByMpzlXFKKdL8JYNhdWH5R5.jpg'},\n",
       " {'movieId': 2455,\n",
       "  'title': 'Fly, The (1986)',\n",
       "  'genres': 'Drama|Horror|Sci-Fi|Thriller',\n",
       "  'imdbId': 91064,\n",
       "  'tmdbId': 9426.0,\n",
       "  'url': 'https://www.imdb.com/title/tt0091064',\n",
       "  'rating_count': 71.0,\n",
       "  'rating_avg': 3.38,\n",
       "  'poster_path': 'https://image.tmdb.org/t/p/original/8gZWMhJHRvaXdXsNhERtqNHYpH3.jpg'},\n",
       " {'movieId': 4055,\n",
       "  'title': 'Panic (2000)',\n",
       "  'genres': 'Drama',\n",
       "  'imdbId': 194218,\n",
       "  'tmdbId': 20637.0,\n",
       "  'url': 'https://www.imdb.com/title/tt0194218',\n",
       "  'rating_count': 3.0,\n",
       "  'rating_avg': 3.67,\n",
       "  'poster_path': 'https://image.tmdb.org/t/p/original/gCaWBW6qQ0otWliRi0Gs4bAzgDX.jpg'},\n",
       " {'movieId': 8607,\n",
       "  'title': 'Tokyo Godfathers (2003)',\n",
       "  'genres': 'Adventure|Animation|Drama',\n",
       "  'imdbId': 388473,\n",
       "  'tmdbId': 13398.0,\n",
       "  'url': 'https://www.imdb.com/title/tt0388473',\n",
       "  'rating_count': 8.0,\n",
       "  'rating_avg': 4.0,\n",
       "  'poster_path': 'https://image.tmdb.org/t/p/original/sPC66btzQlzuRdPKiSDYZ5Hvxgc.jpg'}]"
      ]
     },
     "execution_count": 106,
     "metadata": {},
     "output_type": "execute_result"
    }
   ],
   "source": [
    "def genres_items(genre, n):\n",
    "    movies_df = pd.read_csv(item_frame)\n",
    "    genre_df = movies_df.fillna('') #결측치 공백 처리 \n",
    "    genre_df = genre_df[genre_df['genres'].str.contains(genre, case=False, na=False)] # case = false 대소문자 구분안함  na false 결측치 상관안함 \n",
    "    \n",
    "    result_items = genre_df.sample(n=n).to_dict('records')\n",
    "    return result_items\n",
    "\n",
    "genres_items('Drama', 5)"
   ]
  },
  {
   "cell_type": "code",
   "execution_count": null,
   "metadata": {},
   "outputs": [],
   "source": []
  }
 ],
 "metadata": {
  "kernelspec": {
   "display_name": "Python 3 (ipykernel)",
   "language": "python",
   "name": "python3"
  },
  "language_info": {
   "codemirror_mode": {
    "name": "ipython",
    "version": 3
   },
   "file_extension": ".py",
   "mimetype": "text/x-python",
   "name": "python",
   "nbconvert_exporter": "python",
   "pygments_lexer": "ipython3",
   "version": "3.12.7"
  }
 },
 "nbformat": 4,
 "nbformat_minor": 2
}
